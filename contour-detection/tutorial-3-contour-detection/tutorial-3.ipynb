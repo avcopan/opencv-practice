{
 "cells": [
  {
   "cell_type": "code",
   "execution_count": 1,
   "id": "68852ee8-8c95-446a-97f8-ccb829d10be8",
   "metadata": {},
   "outputs": [],
   "source": [
    "import cv2 as cv"
   ]
  },
  {
   "cell_type": "code",
   "execution_count": 2,
   "id": "f89eb62e-cc15-4907-881e-9d2bcc0a8c1e",
   "metadata": {},
   "outputs": [
    {
     "name": "stderr",
     "output_type": "stream",
     "text": [
      "Warning: Ignoring XDG_SESSION_TYPE=wayland on Gnome. Use QT_QPA_PLATFORM=wayland to run on Wayland anyway.\n"
     ]
    }
   ],
   "source": [
    "image = cv.imread('../input/image_1.jpg')\n",
    "\n",
    "# 1. Convert to grayscale\n",
    "img_gray = cv.cvtColor(image, cv.COLOR_BGR2GRAY)\n",
    "\n",
    "cv.imshow('A', img_gray)\n",
    "cv.waitKey()\n",
    "cv.destroyAllWindows()"
   ]
  },
  {
   "cell_type": "code",
   "execution_count": 3,
   "id": "d0849d6e-e453-4e49-9fdd-a8e1ae54a40a",
   "metadata": {},
   "outputs": [],
   "source": [
    "# 2. Apply a binary threshold\n",
    "\n",
    "# Any pixel greater than 150 will be set to 255 (white)\n",
    "# Everything else will be set to 0 (black\n",
    "ret, img_binary = cv.threshold(img_gray, 150, 255, cv.THRESH_BINARY)\n",
    "\n",
    "cv.imshow('B', img_binary)\n",
    "cv.waitKey()\n",
    "cv.destroyAllWindows()"
   ]
  },
  {
   "cell_type": "code",
   "execution_count": 4,
   "id": "15ac69f1-dc79-49c7-878d-a7f7be6e4642",
   "metadata": {},
   "outputs": [],
   "source": [
    "# 3. Draw contours\n",
    "\n",
    "contours, hierarchy = cv.findContours(\n",
    "    image=img_binary,\n",
    "    mode=cv.RETR_TREE,\n",
    "    method=cv.CHAIN_APPROX_NONE\n",
    ")\n",
    "\n",
    "img_contour = image.copy()\n",
    "cv.drawContours(\n",
    "    image=img_contour,\n",
    "    contours=contours,\n",
    "    contourIdx=-1,\n",
    "    color=(0, 255, 0),\n",
    "    thickness=2,\n",
    "    lineType=cv.LINE_AA\n",
    ")\n",
    "\n",
    "cv.imshow('C', img_contour)\n",
    "cv.waitKey(0)\n",
    "cv.imwrite('contours_none_image1.jpg', img_contour)\n",
    "cv.destroyAllWindows()"
   ]
  },
  {
   "cell_type": "code",
   "execution_count": null,
   "id": "e6581297-6843-4041-b83c-fc27e8cba0e9",
   "metadata": {},
   "outputs": [],
   "source": []
  }
 ],
 "metadata": {
  "kernelspec": {
   "display_name": "Python 3 (ipykernel)",
   "language": "python",
   "name": "python3"
  },
  "language_info": {
   "codemirror_mode": {
    "name": "ipython",
    "version": 3
   },
   "file_extension": ".py",
   "mimetype": "text/x-python",
   "name": "python",
   "nbconvert_exporter": "python",
   "pygments_lexer": "ipython3",
   "version": "3.10.12"
  }
 },
 "nbformat": 4,
 "nbformat_minor": 5
}

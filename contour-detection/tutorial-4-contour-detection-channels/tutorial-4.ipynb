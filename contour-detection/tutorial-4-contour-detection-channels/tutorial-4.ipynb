{
 "cells": [
  {
   "cell_type": "code",
   "execution_count": 1,
   "id": "b4133419-24c1-4183-b548-62b24c6941f5",
   "metadata": {},
   "outputs": [],
   "source": [
    "import cv2 as cv"
   ]
  },
  {
   "cell_type": "code",
   "execution_count": 2,
   "id": "fc2106ed-926a-49d4-bf73-2ea77c212e6a",
   "metadata": {},
   "outputs": [
    {
     "name": "stderr",
     "output_type": "stream",
     "text": [
      "Warning: Ignoring XDG_SESSION_TYPE=wayland on Gnome. Use QT_QPA_PLATFORM=wayland to run on Wayland anyway.\n"
     ]
    }
   ],
   "source": [
    "image = cv.imread('../input/image_1.jpg')\n",
    "\n",
    "# 1. Split up B, G, R channels\n",
    "imgB, imgG, imgR = cv.split(image)\n",
    "\n",
    "cv.imshow('B', imgB)\n",
    "cv.waitKey()\n",
    "cv.destroyAllWindows()\n",
    "\n",
    "cv.imshow('G', imgG)\n",
    "cv.waitKey()\n",
    "cv.destroyAllWindows()\n",
    "\n",
    "cv.imshow('R', imgR)\n",
    "cv.waitKey()\n",
    "cv.destroyAllWindows()"
   ]
  },
  {
   "cell_type": "code",
   "execution_count": 3,
   "id": "95316ca7-4ed3-44b9-90ab-b2eff75a4825",
   "metadata": {},
   "outputs": [],
   "source": [
    "for channel, img in (('B', imgB), ('G', imgG), ('R', imgR)):\n",
    "    contours, hierarchy = cv.findContours(\n",
    "        image=img,\n",
    "        mode=cv.RETR_TREE,\n",
    "        method=cv.CHAIN_APPROX_NONE,\n",
    "    )\n",
    "\n",
    "    img_contour = image.copy()\n",
    "    cv.drawContours(\n",
    "        image=img_contour,\n",
    "        contours=contours,\n",
    "        contourIdx=-1,\n",
    "        color=(0, 255, 0),\n",
    "        thickness=2,\n",
    "        lineType=cv.LINE_AA,\n",
    "    )\n",
    "\n",
    "    cv.imshow(channel, img_contour)\n",
    "    cv.waitKey()\n",
    "    cv.imwrite(f\"image_contour_{channel}.jpg\", img_contour)\n",
    "    cv.destroyAllWindows()"
   ]
  },
  {
   "cell_type": "code",
   "execution_count": null,
   "id": "756bd1b0-1d35-4877-a236-b0bc04197bc1",
   "metadata": {},
   "outputs": [],
   "source": []
  }
 ],
 "metadata": {
  "kernelspec": {
   "display_name": "Python 3 (ipykernel)",
   "language": "python",
   "name": "python3"
  },
  "language_info": {
   "codemirror_mode": {
    "name": "ipython",
    "version": 3
   },
   "file_extension": ".py",
   "mimetype": "text/x-python",
   "name": "python",
   "nbconvert_exporter": "python",
   "pygments_lexer": "ipython3",
   "version": "3.10.12"
  }
 },
 "nbformat": 4,
 "nbformat_minor": 5
}

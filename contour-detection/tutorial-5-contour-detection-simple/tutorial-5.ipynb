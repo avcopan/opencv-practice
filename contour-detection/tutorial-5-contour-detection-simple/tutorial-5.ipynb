{
 "cells": [
  {
   "cell_type": "code",
   "execution_count": 1,
   "id": "397b566c-a221-42b5-9d9e-51eb64c5af51",
   "metadata": {},
   "outputs": [],
   "source": [
    "import cv2 as cv"
   ]
  },
  {
   "cell_type": "markdown",
   "id": "e109d2c2-ed92-4eff-9547-0ee18a310ffd",
   "metadata": {},
   "source": [
    "The simple method stores only the endpoints of straight lines, rather than each point.\n",
    "\n",
    "It uses less memory and executes more quickly"
   ]
  },
  {
   "cell_type": "code",
   "execution_count": 2,
   "id": "643843fa-db3f-4298-989e-0153c2025f42",
   "metadata": {},
   "outputs": [
    {
     "name": "stderr",
     "output_type": "stream",
     "text": [
      "Warning: Ignoring XDG_SESSION_TYPE=wayland on Gnome. Use QT_QPA_PLATFORM=wayland to run on Wayland anyway.\n"
     ]
    }
   ],
   "source": [
    "image = cv.imread('../input/image_1.jpg')\n",
    "img_gray = cv.cvtColor(image, cv.COLOR_BGR2GRAY)\n",
    "ret, img_binary = cv.threshold(img_gray, 150, 255, cv.THRESH_BINARY)\n",
    "\n",
    "contours, hierarchy = cv.findContours(\n",
    "    image=img_binary,\n",
    "    mode=cv.RETR_TREE,\n",
    "    method=cv.CHAIN_APPROX_SIMPLE\n",
    ")\n",
    "\n",
    "img_contour = image.copy()\n",
    "cv.drawContours(\n",
    "    image=img_contour,\n",
    "    contours=contours,\n",
    "    contourIdx=-1,\n",
    "    color=(0, 255, 0),\n",
    "    thickness=2,\n",
    "    lineType=cv.LINE_AA\n",
    ")\n",
    "\n",
    "cv.imshow('simple', img_contour)\n",
    "cv.waitKey(0)\n",
    "cv.imwrite('contours_simple_image1.jpg', img_contour)\n",
    "cv.destroyAllWindows()"
   ]
  },
  {
   "cell_type": "code",
   "execution_count": null,
   "id": "bd461f0c-2eec-4604-a950-fc4d741899e7",
   "metadata": {},
   "outputs": [],
   "source": []
  }
 ],
 "metadata": {
  "kernelspec": {
   "display_name": "Python 3 (ipykernel)",
   "language": "python",
   "name": "python3"
  },
  "language_info": {
   "codemirror_mode": {
    "name": "ipython",
    "version": 3
   },
   "file_extension": ".py",
   "mimetype": "text/x-python",
   "name": "python",
   "nbconvert_exporter": "python",
   "pygments_lexer": "ipython3",
   "version": "3.10.12"
  }
 },
 "nbformat": 4,
 "nbformat_minor": 5
}

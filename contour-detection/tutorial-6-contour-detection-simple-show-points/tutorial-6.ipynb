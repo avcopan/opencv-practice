{
 "cells": [
  {
   "cell_type": "code",
   "execution_count": 2,
   "id": "84688493-4b23-464d-b0ea-b9600bb6f898",
   "metadata": {},
   "outputs": [],
   "source": [
    "import cv2 as cv"
   ]
  },
  {
   "cell_type": "code",
   "execution_count": null,
   "id": "493df1c9-9800-419c-b468-8f0bdd5a7c9a",
   "metadata": {},
   "outputs": [
    {
     "name": "stderr",
     "output_type": "stream",
     "text": [
      "Warning: Ignoring XDG_SESSION_TYPE=wayland on Gnome. Use QT_QPA_PLATFORM=wayland to run on Wayland anyway.\n"
     ]
    }
   ],
   "source": [
    "image = cv.imread('../input/image_2.jpg')\n",
    "\n",
    "img_gray = cv.cvtColor(image, cv.COLOR_BGR2GRAY)\n",
    "ret, img_bin = cv.threshold(img_gray, 150, 255, cv.THRESH_BINARY)\n",
    "contours, hierarchy = cv.findContours(img_bin, cv.RETR_TREE, cv.CHAIN_APPROX_SIMPLE)\n",
    "\n",
    "# Draw all contours\n",
    "img_all_contours = image.copy()\n",
    "cv.drawContours(img_all_contours, contours, -1, (0, 255, 0), 2, cv.LINE_AA)\n",
    "cv.imshow('all contours', img_all_contours)\n",
    "cv.waitKey()\n",
    "\n",
    "img_copy = image.copy()\n",
    "for i, contour in enumerate(contours):\n",
    "    for j, point in enumerate(contour):\n",
    "        cv.circle(img_copy, tuple(point[0]), 2, (0, 255, 0), 2, cv.LINE_AA)\n",
    "\n",
    "cv.imshow(\"points\", img_copy)\n",
    "cv.waitKey()\n",
    "cv.destroyAllWindows()"
   ]
  },
  {
   "cell_type": "code",
   "execution_count": null,
   "id": "db64b0c9-a747-47b6-8d57-f5c4dffd00eb",
   "metadata": {},
   "outputs": [],
   "source": []
  }
 ],
 "metadata": {
  "kernelspec": {
   "display_name": "Python 3 (ipykernel)",
   "language": "python",
   "name": "python3"
  },
  "language_info": {
   "codemirror_mode": {
    "name": "ipython",
    "version": 3
   },
   "file_extension": ".py",
   "mimetype": "text/x-python",
   "name": "python",
   "nbconvert_exporter": "python",
   "pygments_lexer": "ipython3",
   "version": "3.10.12"
  }
 },
 "nbformat": 4,
 "nbformat_minor": 5
}

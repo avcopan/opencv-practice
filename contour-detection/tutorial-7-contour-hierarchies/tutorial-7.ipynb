{
 "cells": [
  {
   "cell_type": "code",
   "execution_count": 1,
   "id": "31fb9edc-511e-45e0-b400-b28bbb93ac93",
   "metadata": {},
   "outputs": [],
   "source": [
    "import cv2 as cv\n",
    "import IPython.display as ipd"
   ]
  },
  {
   "cell_type": "markdown",
   "id": "8fbfc89c-5e2c-4b18-871b-771f6e99899a",
   "metadata": {},
   "source": [
    "RETR_LIST (retrieval method list) does not create any parent child hierarchy, so it is just a flat list.\n",
    "\n",
    "The format is\n",
    "```\n",
    "0: [ 1, -1, -1, -1]  # [Next, Previous, First_Child, Parent]\n",
    "1: [ 2,  0, -1, -1]\n",
    "2: [ 3,  1, -1, -1]\n",
    "3: [ 4,  2, -1, -1]\n",
    "4: [-1,  3, -1, -1]\n",
    "```\n",
    "where `Next` and `Previous` refer to the next/previous contours at the same hierarchical level."
   ]
  },
  {
   "cell_type": "code",
   "execution_count": null,
   "id": "866dc9a9-1e5c-44ff-a700-dec5afdfab4a",
   "metadata": {},
   "outputs": [],
   "source": [
    "image = cv.imread('../input/custom_colors.jpg')\n",
    "img_gray = cv.cvtColor(image, cv.COLOR_BGR2GRAY)\n",
    "ret, img_bin = cv.threshold(img_gray, 150, 255, cv.THRESH_BINARY)\n",
    "\n",
    "contours, hierarchy = cv.findContours(img_bin, cv.RETR_LIST, cv.CHAIN_APPROX_NONE)\n",
    "img_contours = image.copy()\n",
    "cv.drawContours(img_contours, contours, -1, (0, 255, 0), 2, cv.LINE_AA)\n",
    "\n",
    "cv.imshow('', img_contours)\n",
    "print(\"Hierarchy\")\n",
    "ipd.display(hierarchy)\n",
    "\n",
    "cv.waitKey()\n",
    "cv.destroyAllWindows()"
   ]
  },
  {
   "cell_type": "markdown",
   "id": "a8c018a1-d5b8-4915-af2c-4573f6cff623",
   "metadata": {},
   "source": [
    "RETR_EXTERNAL detects only external contours and ignores all children"
   ]
  },
  {
   "cell_type": "code",
   "execution_count": null,
   "id": "70537bf2-d2ed-4f2a-bf63-6aeb54d8ec76",
   "metadata": {},
   "outputs": [],
   "source": [
    "image = cv.imread('../input/custom_colors.jpg')\n",
    "img_gray = cv.cvtColor(image, cv.COLOR_BGR2GRAY)\n",
    "ret, img_bin = cv.threshold(img_gray, 150, 255, cv.THRESH_BINARY)\n",
    "\n",
    "contours, hierarchy = cv.findContours(img_bin, cv.RETR_EXTERNAL, cv.CHAIN_APPROX_NONE)\n",
    "img_contours = image.copy()\n",
    "cv.drawContours(img_contours, contours, -1, (0, 255, 0), 2, cv.LINE_AA)\n",
    "\n",
    "cv.imshow('', img_contours)\n",
    "print(\"Hierarchy\")\n",
    "ipd.display(hierarchy)\n",
    "\n",
    "cv.waitKey()\n",
    "cv.destroyAllWindows()"
   ]
  },
  {
   "cell_type": "markdown",
   "id": "69ef4715-0d4a-4792-9295-1ac797cc30b5",
   "metadata": {},
   "source": [
    "RETR_CCOMP applies a 2-level hierarchy to all shapes or objects in the image"
   ]
  },
  {
   "cell_type": "code",
   "execution_count": null,
   "id": "e58ca08f-75a3-4895-834c-0d01e1f974d7",
   "metadata": {},
   "outputs": [],
   "source": [
    "image = cv.imread('../input/custom_colors.jpg')\n",
    "img_gray = cv.cvtColor(image, cv.COLOR_BGR2GRAY)\n",
    "ret, img_bin = cv.threshold(img_gray, 150, 255, cv.THRESH_BINARY)\n",
    "\n",
    "contours, hierarchy = cv.findContours(img_bin, cv.RETR_CCOMP, cv.CHAIN_APPROX_NONE)\n",
    "img_contours = image.copy()\n",
    "cv.drawContours(img_contours, contours, -1, (0, 255, 0), 2, cv.LINE_AA)\n",
    "\n",
    "for contour, hrow in zip(contours, hierarchy[0]):\n",
    "    ipd.display(hrow)\n",
    "\n",
    "    img_contour = image.copy()\n",
    "    cv.drawContours(img_contour, [contour], -1, (0, 255, 0), 2, cv.LINE_AA)\n",
    "\n",
    "    cv.imshow(str(hrow), img_contour)\n",
    "    cv.waitKey()\n",
    "    cv.destroyAllWindows()\n",
    "\n",
    "cv.imshow('', img_contours)\n",
    "print(\"Hierarchy\")\n",
    "ipd.display(hierarchy)\n",
    "cv.waitKey()\n",
    "cv.destroyAllWindows()"
   ]
  },
  {
   "cell_type": "markdown",
   "id": "65ee5a29-e0ee-4b31-8757-94eb86add7f7",
   "metadata": {},
   "source": [
    "RETR_TREE creates a complete hierarchy"
   ]
  },
  {
   "cell_type": "code",
   "execution_count": 2,
   "id": "e84edb04-1930-467e-a4da-142870a9ecad",
   "metadata": {},
   "outputs": [
    {
     "data": {
      "text/plain": [
       "array([ 3, -1,  1, -1], dtype=int32)"
      ]
     },
     "metadata": {},
     "output_type": "display_data"
    },
    {
     "name": "stderr",
     "output_type": "stream",
     "text": [
      "Warning: Ignoring XDG_SESSION_TYPE=wayland on Gnome. Use QT_QPA_PLATFORM=wayland to run on Wayland anyway.\n"
     ]
    },
    {
     "data": {
      "text/plain": [
       "array([-1, -1,  2,  0], dtype=int32)"
      ]
     },
     "metadata": {},
     "output_type": "display_data"
    },
    {
     "data": {
      "text/plain": [
       "array([-1, -1, -1,  1], dtype=int32)"
      ]
     },
     "metadata": {},
     "output_type": "display_data"
    },
    {
     "data": {
      "text/plain": [
       "array([ 4,  0, -1, -1], dtype=int32)"
      ]
     },
     "metadata": {},
     "output_type": "display_data"
    },
    {
     "data": {
      "text/plain": [
       "array([-1,  3, -1, -1], dtype=int32)"
      ]
     },
     "metadata": {},
     "output_type": "display_data"
    },
    {
     "name": "stdout",
     "output_type": "stream",
     "text": [
      "Hierarchy\n"
     ]
    },
    {
     "data": {
      "text/plain": [
       "array([[[ 3, -1,  1, -1],\n",
       "        [-1, -1,  2,  0],\n",
       "        [-1, -1, -1,  1],\n",
       "        [ 4,  0, -1, -1],\n",
       "        [-1,  3, -1, -1]]], dtype=int32)"
      ]
     },
     "metadata": {},
     "output_type": "display_data"
    }
   ],
   "source": [
    "image = cv.imread('../input/custom_colors.jpg')\n",
    "img_gray = cv.cvtColor(image, cv.COLOR_BGR2GRAY)\n",
    "ret, img_bin = cv.threshold(img_gray, 150, 255, cv.THRESH_BINARY)\n",
    "\n",
    "contours, hierarchy = cv.findContours(img_bin, cv.RETR_TREE, cv.CHAIN_APPROX_NONE)\n",
    "img_contours = image.copy()\n",
    "cv.drawContours(img_contours, contours, -1, (0, 255, 0), 2, cv.LINE_AA)\n",
    "\n",
    "for contour, hrow in zip(contours, hierarchy[0]):\n",
    "    ipd.display(hrow)\n",
    "\n",
    "    img_contour = image.copy()\n",
    "    cv.drawContours(img_contour, [contour], -1, (0, 255, 0), 2, cv.LINE_AA)\n",
    "\n",
    "    cv.imshow(str(hrow), img_contour)\n",
    "    cv.waitKey()\n",
    "    cv.destroyAllWindows()\n",
    "\n",
    "cv.imshow('', img_contours)\n",
    "print(\"Hierarchy\")\n",
    "ipd.display(hierarchy)\n",
    "cv.waitKey()\n",
    "cv.destroyAllWindows()"
   ]
  },
  {
   "cell_type": "code",
   "execution_count": null,
   "id": "c179be44-15ae-411b-9db8-59050f1fb18d",
   "metadata": {},
   "outputs": [],
   "source": []
  }
 ],
 "metadata": {
  "kernelspec": {
   "display_name": "Python 3 (ipykernel)",
   "language": "python",
   "name": "python3"
  },
  "language_info": {
   "codemirror_mode": {
    "name": "ipython",
    "version": 3
   },
   "file_extension": ".py",
   "mimetype": "text/x-python",
   "name": "python",
   "nbconvert_exporter": "python",
   "pygments_lexer": "ipython3",
   "version": "3.10.12"
  }
 },
 "nbformat": 4,
 "nbformat_minor": 5
}

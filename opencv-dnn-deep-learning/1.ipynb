{
 "cells": [
  {
   "cell_type": "code",
   "execution_count": 1,
   "id": "154591a1-12e0-456b-8bab-c7296f24afd9",
   "metadata": {},
   "outputs": [],
   "source": [
    "import cv2 as cv\n",
    "import numpy as np"
   ]
  },
  {
   "cell_type": "code",
   "execution_count": 2,
   "id": "f628a97e-857b-4594-910e-bcaa66ce0236",
   "metadata": {},
   "outputs": [],
   "source": [
    "# 1. read in the class names\n",
    "with open('input/classification_classes_ILSVRC2012.txt', 'r') as f:\n",
    "   image_net_names = f.read().split('\\n')\n",
    "class_names = [name.split(',')[0] for name in image_net_names]"
   ]
  },
  {
   "cell_type": "code",
   "execution_count": 3,
   "id": "69d0baff-e0ed-40d6-b24d-259893d81e53",
   "metadata": {},
   "outputs": [],
   "source": [
    "# 2. load the model\n",
    "model = cv.dnn.readNet(\n",
    "    model='input/DenseNet_121.caffemodel',\n",
    "    config='input/DenseNet_121.prototxt',\n",
    "    framework='Caffe'\n",
    ")"
   ]
  },
  {
   "cell_type": "code",
   "execution_count": 4,
   "id": "30864b19-aacf-4803-803b-e604bd821fd4",
   "metadata": {},
   "outputs": [],
   "source": [
    "# 3. read in the image and prepare it for model input\n",
    "image = cv.imread(\"input/image_1.jpg\")\n",
    "\n",
    "blob = cv.dnn.blobFromImage(\n",
    "    image=image,\n",
    "    scalefactor=0.01,\n",
    "    size=(224, 224),\n",
    "    mean=(104, 117, 123), # mean values subtracted from the image's RGB channels\n",
    ")"
   ]
  },
  {
   "cell_type": "code",
   "execution_count": 5,
   "id": "37480e26-c429-490b-b009-07389a5cdc74",
   "metadata": {},
   "outputs": [],
   "source": [
    "# 4. make predictions\n",
    "model.setInput(blob)\n",
    "\n",
    "outputs = model.forward()"
   ]
  },
  {
   "cell_type": "code",
   "execution_count": null,
   "id": "1d384881-b58f-42c4-9a4a-d9616870ab05",
   "metadata": {},
   "outputs": [
    {
     "name": "stderr",
     "output_type": "stream",
     "text": [
      "Warning: Ignoring XDG_SESSION_TYPE=wayland on Gnome. Use QT_QPA_PLATFORM=wayland to run on Wayland anyway.\n"
     ]
    }
   ],
   "source": [
    "final_outputs = outputs[0]\n",
    "# make all the outputs 1D\n",
    "final_outputs = final_outputs.reshape(1000, 1)\n",
    "# get the class label\n",
    "label_id = np.argmax(final_outputs)\n",
    "# convert the output scores to softmax probabilities\n",
    "probs = np.exp(final_outputs) / np.sum(np.exp(final_outputs))\n",
    "# get the final highest probability\n",
    "final_prob = np.max(probs) * 100.\n",
    "# map the max confidence to the class label names\n",
    "out_name = class_names[label_id]\n",
    "out_text = f\"{out_name}, {final_prob:.3f}\"\n",
    "# put the class name text on top of the image\n",
    "cv.putText(image, out_text, (25, 50), cv.FONT_HERSHEY_SIMPLEX, 1, (0, 255, 0), 2)\n",
    "cv.imshow('Image', image)\n",
    "cv.waitKey(0)\n",
    "cv.imwrite('result_image.jpg', image)\n"
   ]
  },
  {
   "cell_type": "code",
   "execution_count": null,
   "id": "a6f8a08c-2dd5-4574-ae1d-a6eac57f8c84",
   "metadata": {},
   "outputs": [],
   "source": []
  }
 ],
 "metadata": {
  "kernelspec": {
   "display_name": "Python 3 (ipykernel)",
   "language": "python",
   "name": "python3"
  },
  "language_info": {
   "codemirror_mode": {
    "name": "ipython",
    "version": 3
   },
   "file_extension": ".py",
   "mimetype": "text/x-python",
   "name": "python",
   "nbconvert_exporter": "python",
   "pygments_lexer": "ipython3",
   "version": "3.10.12"
  }
 },
 "nbformat": 4,
 "nbformat_minor": 5
}

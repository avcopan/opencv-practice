{
 "cells": [
  {
   "cell_type": "code",
   "execution_count": 1,
   "id": "d228a82a-a3db-4647-b457-d54476fa0cb3",
   "metadata": {},
   "outputs": [],
   "source": [
    "import cv2 as cv\n",
    "import numpy as np\n",
    "import IPython.display as ipd"
   ]
  },
  {
   "cell_type": "code",
   "execution_count": 4,
   "id": "b1a61fd8-03b5-4244-93f8-93b41ca4a5a9",
   "metadata": {},
   "outputs": [],
   "source": [
    "# 1. read in the class names and assign random colors to each\n",
    "with open('input/object_detection_classes_coco.txt', 'r') as f:\n",
    "    class_names = f.read().strip().split('\\n')\n",
    "\n",
    "colors = np.random.uniform(0, 255, size=(len(class_names), 3))"
   ]
  },
  {
   "cell_type": "code",
   "execution_count": 9,
   "id": "6e29aa92-255a-4175-8a39-f32f171786f4",
   "metadata": {},
   "outputs": [],
   "source": [
    "# 2. load the model\n",
    "model = cv.dnn.readNet(\n",
    "    model='input/frozen_inference_graph.pb',\n",
    "    config='input/ssd_mobilenet_v2_coco_2018_03_29.pbtxt.txt',\n",
    "    framework='TensorFlow'\n",
    ")"
   ]
  },
  {
   "cell_type": "code",
   "execution_count": 11,
   "id": "a0271587-9268-47f4-98f9-1533fddeac74",
   "metadata": {},
   "outputs": [],
   "source": [
    "# 3. read in the image and prepare it for model input\n",
    "image = cv.imread('input/image_2.jpg')\n",
    "height, width, _ = image.shape\n",
    "\n",
    "blob = cv.dnn.blobFromImage(\n",
    "    image=image,\n",
    "    size=(300, 300),\n",
    "    mean=(104, 117, 123),\n",
    "    swapRB=True,  # openCV reads BGR color, so this swaps to RGB to match the model\n",
    ")\n",
    "model.setInput(blob)\n",
    "output = model.forward()"
   ]
  },
  {
   "cell_type": "markdown",
   "id": "4e5a351d-c83d-4aec-88d0-f3bfcaed8805",
   "metadata": {},
   "source": [
    "**Output structure:**\n",
    "```\n",
    "[[0, class_label, confidence_score, bbox_x, bbox_y, bbox_width, bbox_height], ...]\n",
    "```\n",
    "\n",
    "- I don't know what the initial `0` does of if that ever changes\n",
    "- `class_label` is the index of the class label (an integer between 1 and 80)\n",
    "- `confidence_score` is not a direct probability score, but is a measure of the model's confidence in its detection\n",
    "- `bbox_x`, `bbox_y`, `bbox_width`, `bbox_height` describe the bounding box for the object"
   ]
  },
  {
   "cell_type": "code",
   "execution_count": null,
   "id": "18f062dc-518c-4423-a71f-5ba799a66800",
   "metadata": {},
   "outputs": [
    {
     "name": "stderr",
     "output_type": "stream",
     "text": [
      "Warning: Ignoring XDG_SESSION_TYPE=wayland on Gnome. Use QT_QPA_PLATFORM=wayland to run on Wayland anyway.\n"
     ]
    }
   ],
   "source": [
    "# Note, the shape is (1, 1, 100, 7), so the first two axes do nothing\n",
    "for detection in output[0, 0, :, :]:\n",
    "    conf_score = detection[2] # get the confidence score\n",
    "    if conf_score > 0.4:\n",
    "        class_id = int(detection[1]) - 1\n",
    "        class_name = class_names[class_id]\n",
    "        color = colors[class_id]\n",
    "        bbox_x = int(detection[3] * width)\n",
    "        bbox_y = int(detection[4] * height)\n",
    "        bbox_width = int(detection[5] * width)\n",
    "        bbox_height = int(detection[6] * height)\n",
    "        cv.rectangle(image, (bbox_x, bbox_y), (bbox_width, bbox_height), color, thickness=2)\n",
    "        cv.putText(image, class_name, (bbox_x, bbox_y - 5), cv.FONT_HERSHEY_SIMPLEX, 1, color, 2)\n",
    "\n",
    "cv.imshow('image', image)\n",
    "cv.imwrite('image_result.jpg', image)\n",
    "cv.waitKey()\n",
    "cv.destroyAllWindows()"
   ]
  },
  {
   "cell_type": "code",
   "execution_count": null,
   "id": "d55cdea5-29f8-41ee-9e4e-f783fb666411",
   "metadata": {},
   "outputs": [],
   "source": []
  }
 ],
 "metadata": {
  "kernelspec": {
   "display_name": "Python 3 (ipykernel)",
   "language": "python",
   "name": "python3"
  },
  "language_info": {
   "codemirror_mode": {
    "name": "ipython",
    "version": 3
   },
   "file_extension": ".py",
   "mimetype": "text/x-python",
   "name": "python",
   "nbconvert_exporter": "python",
   "pygments_lexer": "ipython3",
   "version": "3.10.12"
  }
 },
 "nbformat": 4,
 "nbformat_minor": 5
}
